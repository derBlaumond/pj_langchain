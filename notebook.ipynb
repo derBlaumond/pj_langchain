{
 "cells": [
  {
   "cell_type": "code",
   "execution_count": 10,
   "metadata": {},
   "outputs": [],
   "source": [
    "from langchain.chat_models import ChatOpenAI\n",
    "from langchain.prompts import PromptTemplate, ChatPromptTemplate\n",
    "# ChatPromtTemplate is to create a template from messages\n",
    "# PrompptTemplate is to create a template from just a string\n",
    "\n",
    "# temperature: how much creative it will be from 0.1 to 0.9\n",
    "chat = ChatOpenAI(temperature=0.5)\n",
    "\n",
    "template = PromptTemplate.from_template(\n",
    "    \"What is the distance between {city_a} and {city_b}.\",\n",
    ")\n",
    "\n",
    "prompt = template.format(city_a=\"Berlin\", city_b=\"Tenerife\")"
   ]
  },
  {
   "cell_type": "code",
   "execution_count": 12,
   "metadata": {},
   "outputs": [
    {
     "data": {
      "text/plain": [
       "AIMessage(content='Ich bin ein KI-Assistent und habe keinen eigenen Namen. Sie können mich jedoch gerne \"KAI\" nennen, wenn Ihnen das behilflich ist. Wie kann ich Ihnen helfen?')"
      ]
     },
     "execution_count": 12,
     "metadata": {},
     "output_type": "execute_result"
    }
   ],
   "source": [
    "# validate the variables\n",
    "template = ChatPromptTemplate.from_messages(\n",
    "    [\n",
    "        # the message sent by the system\n",
    "        (\"system\", \"You are a geography expert. ANd you only inly in {language}.\"),\n",
    "        # the message sent by the AI\n",
    "        (\"ai\",\"Ja, ich bin {name}!\"),\n",
    "        # the message sent by the user\n",
    "        (\"human\",\"What is the distance between {city_a} and {city_b}. Also, what is your name?\",),\n",
    "    ]\n",
    ")\n",
    "\n",
    "prompt = template.format_messages(\n",
    "    language = \"German\",\n",
    "    name = \"Kai\",\n",
    "    city_a = \"Berlin\",\n",
    "    city_b = \"tenerife\",\n",
    ")\n",
    "\n",
    "chat.predict_messages(prompt)"
   ]
  },
  {
   "cell_type": "code",
   "execution_count": null,
   "metadata": {},
   "outputs": [],
   "source": []
  }
 ],
 "metadata": {
  "kernelspec": {
   "display_name": "env",
   "language": "python",
   "name": "python3"
  },
  "language_info": {
   "codemirror_mode": {
    "name": "ipython",
    "version": 3
   },
   "file_extension": ".py",
   "mimetype": "text/x-python",
   "name": "python",
   "nbconvert_exporter": "python",
   "pygments_lexer": "ipython3",
   "version": "3.10.9"
  },
  "orig_nbformat": 4
 },
 "nbformat": 4,
 "nbformat_minor": 2
}
